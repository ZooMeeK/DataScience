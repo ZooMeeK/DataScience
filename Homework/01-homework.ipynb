{
 "cells": [
  {
   "cell_type": "markdown",
   "id": "35b96ac2",
   "metadata": {},
   "source": [
    "# Easy"
   ]
  },
  {
   "cell_type": "code",
   "execution_count": 121,
   "id": "6e2add6a",
   "metadata": {},
   "outputs": [],
   "source": [
    "def square_list(input_list):\n",
    "    sqrt_list = [i ** 2 for i in input_list]\n",
    "    return(sqrt_list)"
   ]
  },
  {
   "cell_type": "code",
   "execution_count": 127,
   "id": "de3bfb11",
   "metadata": {},
   "outputs": [
    {
     "data": {
      "text/plain": [
       "[0, 1, 4, 9, 16, 25, 36, 49, 64, 81, 100, 121, 144, 169, 196]"
      ]
     },
     "execution_count": 127,
     "metadata": {},
     "output_type": "execute_result"
    }
   ],
   "source": [
    "input_list = [i for i in range(15)]\n",
    "square_list(input_list)"
   ]
  },
  {
   "cell_type": "markdown",
   "id": "9e6f4618",
   "metadata": {},
   "source": [
    "# Normal"
   ]
  },
  {
   "cell_type": "code",
   "execution_count": 112,
   "id": "dce8f279",
   "metadata": {},
   "outputs": [
    {
     "data": {
      "text/plain": [
       "[0, 1, 4, 9, 25, 9801]"
      ]
     },
     "execution_count": 112,
     "metadata": {},
     "output_type": "execute_result"
    }
   ],
   "source": [
    "def sqrt_numbs(x):\n",
    "    return x * x\n",
    "\n",
    "input_list = [0, 1, 2, 3, 5, 99]\n",
    "\n",
    "list(map(sqrt_numbs,input_list))"
   ]
  },
  {
   "cell_type": "markdown",
   "id": "974b7d80",
   "metadata": {},
   "source": [
    "# Hard"
   ]
  },
  {
   "cell_type": "code",
   "execution_count": 119,
   "id": "4cbaf98a",
   "metadata": {},
   "outputs": [],
   "source": [
    "import statistics as stat\n",
    "\n",
    "def calc_statistics(input_list):\n",
    "    \n",
    "    mean = sum(input_list) / len(input_list)\n",
    "    mean = round(mean, 4)\n",
    "    \n",
    "    id_median = int(len(input_list) / 2 - 0.5)\n",
    "    sorted_input_list = sorted(input_list)\n",
    "    if len(input_list) % 2 != 0:\n",
    "        median = sorted_input_list[id_median]\n",
    "    else:\n",
    "        median = (sorted_input_list[id_median] + sorted_input_list[id_median+1])/2\n",
    "    \n",
    "    mode = stat.mode(input_list)\n",
    "    \n",
    "    keys_list = [\"mean\", \"median\", \"mode\"]\n",
    "    value_list = [mean, median, mode]\n",
    "    dict_calc = dict(zip(keys_list,value_list))\n",
    "    return(dict_calc)"
   ]
  },
  {
   "cell_type": "code",
   "execution_count": 120,
   "id": "1720f784",
   "metadata": {},
   "outputs": [
    {
     "data": {
      "text/plain": [
       "{'mean': 3.4286, 'median': 3, 'mode': 1}"
      ]
     },
     "execution_count": 120,
     "metadata": {},
     "output_type": "execute_result"
    }
   ],
   "source": [
    "input_list = [0, 1, 1, 10, 5, 4, 3]\n",
    "calc_statistics(input_list)"
   ]
  }
 ],
 "metadata": {
  "kernelspec": {
   "display_name": "Python 3 (ipykernel)",
   "language": "python",
   "name": "python3"
  },
  "language_info": {
   "codemirror_mode": {
    "name": "ipython",
    "version": 3
   },
   "file_extension": ".py",
   "mimetype": "text/x-python",
   "name": "python",
   "nbconvert_exporter": "python",
   "pygments_lexer": "ipython3",
   "version": "3.9.12"
  }
 },
 "nbformat": 4,
 "nbformat_minor": 5
}
