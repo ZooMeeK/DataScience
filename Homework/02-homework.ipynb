{
 "cells": [
  {
   "cell_type": "code",
   "execution_count": 121,
   "id": "5d35f6e5",
   "metadata": {},
   "outputs": [
    {
     "data": {
      "text/html": [
       "<div>\n",
       "<style scoped>\n",
       "    .dataframe tbody tr th:only-of-type {\n",
       "        vertical-align: middle;\n",
       "    }\n",
       "\n",
       "    .dataframe tbody tr th {\n",
       "        vertical-align: top;\n",
       "    }\n",
       "\n",
       "    .dataframe thead th {\n",
       "        text-align: right;\n",
       "    }\n",
       "</style>\n",
       "<table border=\"1\" class=\"dataframe\">\n",
       "  <thead>\n",
       "    <tr style=\"text-align: right;\">\n",
       "      <th></th>\n",
       "      <th>id</th>\n",
       "      <th>name</th>\n",
       "      <th>localized_name</th>\n",
       "      <th>primary_attr</th>\n",
       "      <th>attack_type</th>\n",
       "      <th>roles</th>\n",
       "      <th>legs</th>\n",
       "    </tr>\n",
       "  </thead>\n",
       "  <tbody>\n",
       "    <tr>\n",
       "      <th>0</th>\n",
       "      <td>1</td>\n",
       "      <td>npc_dota_hero_antimage</td>\n",
       "      <td>Anti-Mage</td>\n",
       "      <td>agi</td>\n",
       "      <td>Melee</td>\n",
       "      <td>[Carry, Escape, Nuker]</td>\n",
       "      <td>2</td>\n",
       "    </tr>\n",
       "    <tr>\n",
       "      <th>1</th>\n",
       "      <td>2</td>\n",
       "      <td>npc_dota_hero_axe</td>\n",
       "      <td>Axe</td>\n",
       "      <td>str</td>\n",
       "      <td>Melee</td>\n",
       "      <td>[Initiator, Durable, Disabler, Jungler, Carry]</td>\n",
       "      <td>2</td>\n",
       "    </tr>\n",
       "    <tr>\n",
       "      <th>2</th>\n",
       "      <td>3</td>\n",
       "      <td>npc_dota_hero_bane</td>\n",
       "      <td>Bane</td>\n",
       "      <td>int</td>\n",
       "      <td>Ranged</td>\n",
       "      <td>[Support, Disabler, Nuker, Durable]</td>\n",
       "      <td>4</td>\n",
       "    </tr>\n",
       "    <tr>\n",
       "      <th>3</th>\n",
       "      <td>4</td>\n",
       "      <td>npc_dota_hero_bloodseeker</td>\n",
       "      <td>Bloodseeker</td>\n",
       "      <td>agi</td>\n",
       "      <td>Melee</td>\n",
       "      <td>[Carry, Disabler, Jungler, Nuker, Initiator]</td>\n",
       "      <td>2</td>\n",
       "    </tr>\n",
       "    <tr>\n",
       "      <th>4</th>\n",
       "      <td>5</td>\n",
       "      <td>npc_dota_hero_crystal_maiden</td>\n",
       "      <td>Crystal Maiden</td>\n",
       "      <td>int</td>\n",
       "      <td>Ranged</td>\n",
       "      <td>[Support, Disabler, Nuker, Jungler]</td>\n",
       "      <td>2</td>\n",
       "    </tr>\n",
       "    <tr>\n",
       "      <th>5</th>\n",
       "      <td>6</td>\n",
       "      <td>npc_dota_hero_drow_ranger</td>\n",
       "      <td>Drow Ranger</td>\n",
       "      <td>agi</td>\n",
       "      <td>Ranged</td>\n",
       "      <td>[Carry, Disabler, Pusher]</td>\n",
       "      <td>2</td>\n",
       "    </tr>\n",
       "    <tr>\n",
       "      <th>6</th>\n",
       "      <td>7</td>\n",
       "      <td>npc_dota_hero_earthshaker</td>\n",
       "      <td>Earthshaker</td>\n",
       "      <td>str</td>\n",
       "      <td>Melee</td>\n",
       "      <td>[Support, Initiator, Disabler, Nuker]</td>\n",
       "      <td>2</td>\n",
       "    </tr>\n",
       "    <tr>\n",
       "      <th>7</th>\n",
       "      <td>8</td>\n",
       "      <td>npc_dota_hero_juggernaut</td>\n",
       "      <td>Juggernaut</td>\n",
       "      <td>agi</td>\n",
       "      <td>Melee</td>\n",
       "      <td>[Carry, Pusher, Escape]</td>\n",
       "      <td>2</td>\n",
       "    </tr>\n",
       "    <tr>\n",
       "      <th>8</th>\n",
       "      <td>9</td>\n",
       "      <td>npc_dota_hero_mirana</td>\n",
       "      <td>Mirana</td>\n",
       "      <td>agi</td>\n",
       "      <td>Ranged</td>\n",
       "      <td>[Carry, Support, Escape, Nuker, Disabler]</td>\n",
       "      <td>2</td>\n",
       "    </tr>\n",
       "    <tr>\n",
       "      <th>9</th>\n",
       "      <td>10</td>\n",
       "      <td>npc_dota_hero_morphling</td>\n",
       "      <td>Morphling</td>\n",
       "      <td>agi</td>\n",
       "      <td>Ranged</td>\n",
       "      <td>[Carry, Escape, Durable, Nuker, Disabler]</td>\n",
       "      <td>0</td>\n",
       "    </tr>\n",
       "    <tr>\n",
       "      <th>10</th>\n",
       "      <td>11</td>\n",
       "      <td>npc_dota_hero_nevermore</td>\n",
       "      <td>Shadow Fiend</td>\n",
       "      <td>agi</td>\n",
       "      <td>Ranged</td>\n",
       "      <td>[Carry, Nuker]</td>\n",
       "      <td>0</td>\n",
       "    </tr>\n",
       "    <tr>\n",
       "      <th>11</th>\n",
       "      <td>12</td>\n",
       "      <td>npc_dota_hero_phantom_lancer</td>\n",
       "      <td>Phantom Lancer</td>\n",
       "      <td>agi</td>\n",
       "      <td>Melee</td>\n",
       "      <td>[Carry, Escape, Pusher, Nuker]</td>\n",
       "      <td>2</td>\n",
       "    </tr>\n",
       "    <tr>\n",
       "      <th>12</th>\n",
       "      <td>13</td>\n",
       "      <td>npc_dota_hero_puck</td>\n",
       "      <td>Puck</td>\n",
       "      <td>int</td>\n",
       "      <td>Ranged</td>\n",
       "      <td>[Initiator, Disabler, Escape, Nuker]</td>\n",
       "      <td>2</td>\n",
       "    </tr>\n",
       "    <tr>\n",
       "      <th>13</th>\n",
       "      <td>14</td>\n",
       "      <td>npc_dota_hero_pudge</td>\n",
       "      <td>Pudge</td>\n",
       "      <td>str</td>\n",
       "      <td>Melee</td>\n",
       "      <td>[Disabler, Initiator, Durable, Nuker]</td>\n",
       "      <td>2</td>\n",
       "    </tr>\n",
       "    <tr>\n",
       "      <th>14</th>\n",
       "      <td>15</td>\n",
       "      <td>npc_dota_hero_razor</td>\n",
       "      <td>Razor</td>\n",
       "      <td>agi</td>\n",
       "      <td>Ranged</td>\n",
       "      <td>[Carry, Durable, Nuker, Pusher]</td>\n",
       "      <td>0</td>\n",
       "    </tr>\n",
       "    <tr>\n",
       "      <th>15</th>\n",
       "      <td>16</td>\n",
       "      <td>npc_dota_hero_sand_king</td>\n",
       "      <td>Sand King</td>\n",
       "      <td>str</td>\n",
       "      <td>Melee</td>\n",
       "      <td>[Initiator, Disabler, Support, Nuker, Escape, ...</td>\n",
       "      <td>6</td>\n",
       "    </tr>\n",
       "    <tr>\n",
       "      <th>16</th>\n",
       "      <td>17</td>\n",
       "      <td>npc_dota_hero_storm_spirit</td>\n",
       "      <td>Storm Spirit</td>\n",
       "      <td>int</td>\n",
       "      <td>Ranged</td>\n",
       "      <td>[Carry, Escape, Nuker, Initiator, Disabler]</td>\n",
       "      <td>2</td>\n",
       "    </tr>\n",
       "    <tr>\n",
       "      <th>17</th>\n",
       "      <td>18</td>\n",
       "      <td>npc_dota_hero_sven</td>\n",
       "      <td>Sven</td>\n",
       "      <td>str</td>\n",
       "      <td>Melee</td>\n",
       "      <td>[Carry, Disabler, Initiator, Durable, Nuker]</td>\n",
       "      <td>2</td>\n",
       "    </tr>\n",
       "    <tr>\n",
       "      <th>18</th>\n",
       "      <td>19</td>\n",
       "      <td>npc_dota_hero_tiny</td>\n",
       "      <td>Tiny</td>\n",
       "      <td>str</td>\n",
       "      <td>Melee</td>\n",
       "      <td>[Carry, Nuker, Pusher, Initiator, Durable, Dis...</td>\n",
       "      <td>2</td>\n",
       "    </tr>\n",
       "    <tr>\n",
       "      <th>19</th>\n",
       "      <td>20</td>\n",
       "      <td>npc_dota_hero_vengefulspirit</td>\n",
       "      <td>Vengeful Spirit</td>\n",
       "      <td>agi</td>\n",
       "      <td>Ranged</td>\n",
       "      <td>[Support, Initiator, Disabler, Nuker, Escape]</td>\n",
       "      <td>2</td>\n",
       "    </tr>\n",
       "  </tbody>\n",
       "</table>\n",
       "</div>"
      ],
      "text/plain": [
       "    id                          name   localized_name primary_attr  \\\n",
       "0    1        npc_dota_hero_antimage        Anti-Mage          agi   \n",
       "1    2             npc_dota_hero_axe              Axe          str   \n",
       "2    3            npc_dota_hero_bane             Bane          int   \n",
       "3    4     npc_dota_hero_bloodseeker      Bloodseeker          agi   \n",
       "4    5  npc_dota_hero_crystal_maiden   Crystal Maiden          int   \n",
       "5    6     npc_dota_hero_drow_ranger      Drow Ranger          agi   \n",
       "6    7     npc_dota_hero_earthshaker      Earthshaker          str   \n",
       "7    8      npc_dota_hero_juggernaut       Juggernaut          agi   \n",
       "8    9          npc_dota_hero_mirana           Mirana          agi   \n",
       "9   10       npc_dota_hero_morphling        Morphling          agi   \n",
       "10  11       npc_dota_hero_nevermore     Shadow Fiend          agi   \n",
       "11  12  npc_dota_hero_phantom_lancer   Phantom Lancer          agi   \n",
       "12  13            npc_dota_hero_puck             Puck          int   \n",
       "13  14           npc_dota_hero_pudge            Pudge          str   \n",
       "14  15           npc_dota_hero_razor            Razor          agi   \n",
       "15  16       npc_dota_hero_sand_king        Sand King          str   \n",
       "16  17    npc_dota_hero_storm_spirit     Storm Spirit          int   \n",
       "17  18            npc_dota_hero_sven             Sven          str   \n",
       "18  19            npc_dota_hero_tiny             Tiny          str   \n",
       "19  20  npc_dota_hero_vengefulspirit  Vengeful Spirit          agi   \n",
       "\n",
       "   attack_type                                              roles  legs  \n",
       "0        Melee                             [Carry, Escape, Nuker]     2  \n",
       "1        Melee     [Initiator, Durable, Disabler, Jungler, Carry]     2  \n",
       "2       Ranged                [Support, Disabler, Nuker, Durable]     4  \n",
       "3        Melee       [Carry, Disabler, Jungler, Nuker, Initiator]     2  \n",
       "4       Ranged                [Support, Disabler, Nuker, Jungler]     2  \n",
       "5       Ranged                          [Carry, Disabler, Pusher]     2  \n",
       "6        Melee              [Support, Initiator, Disabler, Nuker]     2  \n",
       "7        Melee                            [Carry, Pusher, Escape]     2  \n",
       "8       Ranged          [Carry, Support, Escape, Nuker, Disabler]     2  \n",
       "9       Ranged          [Carry, Escape, Durable, Nuker, Disabler]     0  \n",
       "10      Ranged                                     [Carry, Nuker]     0  \n",
       "11       Melee                     [Carry, Escape, Pusher, Nuker]     2  \n",
       "12      Ranged               [Initiator, Disabler, Escape, Nuker]     2  \n",
       "13       Melee              [Disabler, Initiator, Durable, Nuker]     2  \n",
       "14      Ranged                    [Carry, Durable, Nuker, Pusher]     0  \n",
       "15       Melee  [Initiator, Disabler, Support, Nuker, Escape, ...     6  \n",
       "16      Ranged        [Carry, Escape, Nuker, Initiator, Disabler]     2  \n",
       "17       Melee       [Carry, Disabler, Initiator, Durable, Nuker]     2  \n",
       "18       Melee  [Carry, Nuker, Pusher, Initiator, Durable, Dis...     2  \n",
       "19      Ranged      [Support, Initiator, Disabler, Nuker, Escape]     2  "
      ]
     },
     "execution_count": 121,
     "metadata": {},
     "output_type": "execute_result"
    }
   ],
   "source": [
    "import requests\n",
    "import json\n",
    "import pandas as pd\n",
    "import seaborn as sns\n",
    "import matplotlib.pyplot as plt\n",
    "\n",
    "link = 'https://api.opendota.com/api/heroes'\n",
    "r = requests.get(link)\n",
    "data = json.loads(r.text)\n",
    "\n",
    "df = pd.DataFrame(data)\n",
    "df.head(20)"
   ]
  },
  {
   "cell_type": "markdown",
   "id": "ad47896e",
   "metadata": {},
   "source": [
    "# EASY"
   ]
  },
  {
   "cell_type": "code",
   "execution_count": 2,
   "id": "a109049a",
   "metadata": {},
   "outputs": [
    {
     "data": {
      "text/html": [
       "<div>\n",
       "<style scoped>\n",
       "    .dataframe tbody tr th:only-of-type {\n",
       "        vertical-align: middle;\n",
       "    }\n",
       "\n",
       "    .dataframe tbody tr th {\n",
       "        vertical-align: top;\n",
       "    }\n",
       "\n",
       "    .dataframe thead th {\n",
       "        text-align: right;\n",
       "    }\n",
       "</style>\n",
       "<table border=\"1\" class=\"dataframe\">\n",
       "  <thead>\n",
       "    <tr style=\"text-align: right;\">\n",
       "      <th></th>\n",
       "      <th>number of legs</th>\n",
       "      <th>count heroes</th>\n",
       "    </tr>\n",
       "  </thead>\n",
       "  <tbody>\n",
       "    <tr>\n",
       "      <th>0</th>\n",
       "      <td>2</td>\n",
       "      <td>97</td>\n",
       "    </tr>\n",
       "    <tr>\n",
       "      <th>1</th>\n",
       "      <td>0</td>\n",
       "      <td>14</td>\n",
       "    </tr>\n",
       "    <tr>\n",
       "      <th>2</th>\n",
       "      <td>4</td>\n",
       "      <td>8</td>\n",
       "    </tr>\n",
       "    <tr>\n",
       "      <th>3</th>\n",
       "      <td>6</td>\n",
       "      <td>3</td>\n",
       "    </tr>\n",
       "    <tr>\n",
       "      <th>4</th>\n",
       "      <td>8</td>\n",
       "      <td>1</td>\n",
       "    </tr>\n",
       "  </tbody>\n",
       "</table>\n",
       "</div>"
      ],
      "text/plain": [
       "   number of legs  count heroes\n",
       "0               2            97\n",
       "1               0            14\n",
       "2               4             8\n",
       "3               6             3\n",
       "4               8             1"
      ]
     },
     "execution_count": 2,
     "metadata": {},
     "output_type": "execute_result"
    }
   ],
   "source": [
    "df['legs'].value_counts().reset_index().rename(columns = {'index' : 'number of legs', 'legs' : 'count heroes'})"
   ]
  },
  {
   "cell_type": "markdown",
   "id": "13f0ea79",
   "metadata": {},
   "source": [
    "# NORMAL"
   ]
  },
  {
   "cell_type": "code",
   "execution_count": 3,
   "id": "370098b7",
   "metadata": {},
   "outputs": [
    {
     "data": {
      "text/html": [
       "<div>\n",
       "<style scoped>\n",
       "    .dataframe tbody tr th:only-of-type {\n",
       "        vertical-align: middle;\n",
       "    }\n",
       "\n",
       "    .dataframe tbody tr th {\n",
       "        vertical-align: top;\n",
       "    }\n",
       "\n",
       "    .dataframe thead th {\n",
       "        text-align: right;\n",
       "    }\n",
       "</style>\n",
       "<table border=\"1\" class=\"dataframe\">\n",
       "  <thead>\n",
       "    <tr style=\"text-align: right;\">\n",
       "      <th></th>\n",
       "      <th>primary_attr</th>\n",
       "      <th>attack_type</th>\n",
       "      <th>count heroes</th>\n",
       "    </tr>\n",
       "  </thead>\n",
       "  <tbody>\n",
       "    <tr>\n",
       "      <th>0</th>\n",
       "      <td>int</td>\n",
       "      <td>Ranged</td>\n",
       "      <td>40</td>\n",
       "    </tr>\n",
       "    <tr>\n",
       "      <th>1</th>\n",
       "      <td>str</td>\n",
       "      <td>Melee</td>\n",
       "      <td>38</td>\n",
       "    </tr>\n",
       "    <tr>\n",
       "      <th>2</th>\n",
       "      <td>agi</td>\n",
       "      <td>Melee</td>\n",
       "      <td>19</td>\n",
       "    </tr>\n",
       "    <tr>\n",
       "      <th>3</th>\n",
       "      <td>agi</td>\n",
       "      <td>Ranged</td>\n",
       "      <td>19</td>\n",
       "    </tr>\n",
       "    <tr>\n",
       "      <th>4</th>\n",
       "      <td>str</td>\n",
       "      <td>Ranged</td>\n",
       "      <td>4</td>\n",
       "    </tr>\n",
       "    <tr>\n",
       "      <th>5</th>\n",
       "      <td>int</td>\n",
       "      <td>Melee</td>\n",
       "      <td>3</td>\n",
       "    </tr>\n",
       "  </tbody>\n",
       "</table>\n",
       "</div>"
      ],
      "text/plain": [
       "  primary_attr attack_type  count heroes\n",
       "0          int      Ranged            40\n",
       "1          str       Melee            38\n",
       "2          agi       Melee            19\n",
       "3          agi      Ranged            19\n",
       "4          str      Ranged             4\n",
       "5          int       Melee             3"
      ]
     },
     "execution_count": 3,
     "metadata": {},
     "output_type": "execute_result"
    }
   ],
   "source": [
    "df[['primary_attr', 'attack_type']].value_counts().reset_index().rename(columns = { 0 : 'count heroes'})"
   ]
  },
  {
   "cell_type": "markdown",
   "id": "93ac233b",
   "metadata": {},
   "source": [
    "Мы нашли с каким типом атаки и основным атрибутом больше всго героев, далее на основании полученных данных выводим список этих героев"
   ]
  },
  {
   "cell_type": "code",
   "execution_count": 48,
   "id": "d30c97dd",
   "metadata": {
    "scrolled": false
   },
   "outputs": [
    {
     "data": {
      "text/plain": [
       "0                    Bane\n",
       "1          Crystal Maiden\n",
       "2                    Puck\n",
       "3            Storm Spirit\n",
       "4              Windranger\n",
       "5                    Zeus\n",
       "6                    Lina\n",
       "7                    Lion\n",
       "8           Shadow Shaman\n",
       "9            Witch Doctor\n",
       "10                   Lich\n",
       "11                 Enigma\n",
       "12                 Tinker\n",
       "13              Necrophos\n",
       "14                Warlock\n",
       "15          Queen of Pain\n",
       "16          Death Prophet\n",
       "17                  Pugna\n",
       "18                 Dazzle\n",
       "19                Leshrac\n",
       "20       Nature's Prophet\n",
       "21            Enchantress\n",
       "22                 Jakiro\n",
       "23               Batrider\n",
       "24                   Chen\n",
       "25     Ancient Apparition\n",
       "26                Invoker\n",
       "27               Silencer\n",
       "28     Outworld Destroyer\n",
       "29           Shadow Demon\n",
       "30                 Rubick\n",
       "31              Disruptor\n",
       "32    Keeper of the Light\n",
       "33                 Visage\n",
       "34          Skywrath Mage\n",
       "35                Techies\n",
       "36                 Oracle\n",
       "37          Winter Wyvern\n",
       "38            Dark Willow\n",
       "39             Grimstroke\n",
       "Name: localized_name, dtype: object"
      ]
     },
     "execution_count": 48,
     "metadata": {},
     "output_type": "execute_result"
    }
   ],
   "source": [
    "df.localized_name[(df['primary_attr'] == 'int') & (df['attack_type'] == 'Ranged')].reset_index(drop=True)"
   ]
  },
  {
   "cell_type": "markdown",
   "id": "a00e49ab",
   "metadata": {},
   "source": [
    "# HARD"
   ]
  },
  {
   "cell_type": "code",
   "execution_count": 182,
   "id": "e4e49b73",
   "metadata": {},
   "outputs": [],
   "source": [
    "df_explode =  df.explode('roles').reset_index(drop=True)"
   ]
  },
  {
   "cell_type": "markdown",
   "id": "f4871a79",
   "metadata": {},
   "source": [
    "## Первая часть "
   ]
  },
  {
   "cell_type": "code",
   "execution_count": 183,
   "id": "ba29bfec",
   "metadata": {
    "scrolled": false
   },
   "outputs": [
    {
     "data": {
      "image/png": "[encoded data removed]",
      "text/plain": [
       "<Figure size 360x360 with 1 Axes>"
      ]
     },
     "metadata": {
      "needs_background": "light"
     },
     "output_type": "display_data"
    },
    {
     "data": {
      "image/png": "[encoded data removed]",
      "text/plain": [
       "<Figure size 360x360 with 1 Axes>"
      ]
     },
     "metadata": {
      "needs_background": "light"
     },
     "output_type": "display_data"
    },
    {
     "data": {
      "image/png": "[encoded data removed]",
      "text/plain": [
       "<Figure size 360x360 with 1 Axes>"
      ]
     },
     "metadata": {
      "needs_background": "light"
     },
     "output_type": "display_data"
    },
    {
     "data": {
      "image/png": "[encoded data removed]",
      "text/plain": [
       "<Figure size 360x360 with 1 Axes>"
      ]
     },
     "metadata": {
      "needs_background": "light"
     },
     "output_type": "display_data"
    },
    {
     "data": {
      "image/png": "[encoded data removed]",
      "text/plain": [
       "<Figure size 360x360 with 1 Axes>"
      ]
     },
     "metadata": {
      "needs_background": "light"
     },
     "output_type": "display_data"
    },
    {
     "data": {
      "image/png": "[encoded data removed]",
      "text/plain": [
       "<Figure size 360x360 with 1 Axes>"
      ]
     },
     "metadata": {
      "needs_background": "light"
     },
     "output_type": "display_data"
    },
    {
     "data": {
      "image/png": "[encoded data removed]",
      "text/plain": [
       "<Figure size 360x360 with 1 Axes>"
      ]
     },
     "metadata": {
      "needs_background": "light"
     },
     "output_type": "display_data"
    },
    {
     "data": {
      "image/png": "[encoded data removed]",
      "text/plain": [
       "<Figure size 360x360 with 1 Axes>"
      ]
     },
     "metadata": {
      "needs_background": "light"
     },
     "output_type": "display_data"
    },
    {
     "data": {
      "image/png": "[encoded data removed]",
      "text/plain": [
       "<Figure size 360x360 with 1 Axes>"
      ]
     },
     "metadata": {
      "needs_background": "light"
     },
     "output_type": "display_data"
    }
   ],
   "source": [
    "roles_list = list(set(df_explode['roles']))\n",
    "for i, role_name in enumerate(roles_list):\n",
    "    df_roles = df_explode[['primary_attr', 'roles']].loc[(df_explode['roles'] == role_name)].value_counts().reset_index().rename(columns = {'primary_attr' : 'Primary Attribute' , 0 : 'Сount Heroes'}).sort_values(by='Primary Attribute')\n",
    "    role_schedule = sns.catplot(x=\"Primary Attribute\", y=\"Сount Heroes\", data=df_roles, kind=\"bar\").fig.set_size_inches(5,5)\n",
    "    plt.title(role_name)"
   ]
  },
  {
   "cell_type": "markdown",
   "id": "18db9d81",
   "metadata": {},
   "source": [
    "## Вторая часть"
   ]
  },
  {
   "cell_type": "code",
   "execution_count": 184,
   "id": "47cef125",
   "metadata": {},
   "outputs": [
    {
     "data": {
      "image/png": "[encoded data removed]",
      "text/plain": [
       "<Figure size 1080x504 with 1 Axes>"
      ]
     },
     "metadata": {
      "needs_background": "light"
     },
     "output_type": "display_data"
    },
    {
     "data": {
      "image/png": "[encoded data removed]",
      "text/plain": [
       "<Figure size 1080x504 with 1 Axes>"
      ]
     },
     "metadata": {
      "needs_background": "light"
     },
     "output_type": "display_data"
    },
    {
     "data": {
      "image/png": "[encoded data removed]",
      "text/plain": [
       "<Figure size 1080x504 with 1 Axes>"
      ]
     },
     "metadata": {
      "needs_background": "light"
     },
     "output_type": "display_data"
    }
   ],
   "source": [
    "Attr_list = list(set(df_explode['primary_attr']))\n",
    "for i, Attr in enumerate(Attr_list):\n",
    "    df_roles = df_explode[['primary_attr', 'roles']].loc[(df_explode['primary_attr'] == Attr)].value_counts().reset_index().rename(columns = {'primary_attr' : 'Primary Attribute' , 0 : 'Сount Heroes'}).sort_values(by='roles')\n",
    "    role_schedule = sns.catplot(x=\"roles\", y=\"Сount Heroes\", data=df_roles, kind=\"bar\").fig.set_size_inches(15,7)\n",
    "    plt.title(Attr)"
   ]
  },
  {
   "cell_type": "markdown",
   "id": "9a6394cf",
   "metadata": {},
   "source": [
    "## Третья часть"
   ]
  },
  {
   "cell_type": "markdown",
   "id": "afc16233",
   "metadata": {},
   "source": [
    "- Среди героев с основным атрибутом INT(Интеллект) преобладают роли: 'Disabler', 'Nuker', 'Support'.\n",
    "- Среди героев с основным атрибутом AGI(Ловкость) преобладают роли: 'Carry', 'Disabler', 'Escape', 'Nuker'.\n",
    "- Среди героев с основным атрибутом STR(Сила) преобладают роли: 'Disabler', 'Durable', 'Initiator', 'Nuker'.\n",
    "\n",
    "- Роли 'Disabler' и 'Nuker' очень часто встречаются у героев со всеми основными атрибутами.\n",
    "\n",
    "- Роль 'Jungler' самая не распространенная "
   ]
  }
 ],
 "metadata": {
  "kernelspec": {
   "display_name": "Python 3 (ipykernel)",
   "language": "python",
   "name": "python3"
  },
  "language_info": {
   "codemirror_mode": {
    "name": "ipython",
    "version": 3
   },
   "file_extension": ".py",
   "mimetype": "text/x-python",
   "name": "python",
   "nbconvert_exporter": "python",
   "pygments_lexer": "ipython3",
   "version": "3.9.12"
  }
 },
 "nbformat": 4,
 "nbformat_minor": 5
}
